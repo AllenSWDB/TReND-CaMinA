{
 "cells": [
  {
   "cell_type": "markdown",
   "metadata": {
    "id": "tF9v8UsrVmqQ"
   },
   "source": [
    "# Intro to the Allen Brain Observatory Visual Coding Ophys Dataset.\n",
    "This notebook demonstrates how to access and visualize data."
   ]
  },
  {
   "cell_type": "code",
   "execution_count": null,
   "metadata": {
    "id": "etDaFPuTVaJE"
   },
   "outputs": [],
   "source": [
    "!apt install s3fs\n",
    "!pip install allensdk\n",
    "!mkdir -p /data/allen-brain-observatory/\n",
    "!s3fs allen-brain-observatory /data/allen-brain-observatory/ -o public_bucket=1\n",
    "\n"
   ]
  },
  {
   "cell_type": "markdown",
   "metadata": {
    "id": "R1KjEGnHV7m3"
   },
   "source": [
    "Standard Imports"
   ]
  },
  {
   "cell_type": "code",
   "execution_count": null,
   "metadata": {
    "id": "Otn3gfbDWFbZ"
   },
   "outputs": [],
   "source": [
    "import numpy as np\n",
    "import pandas as pd\n",
    "import matplotlib.pyplot as plt\n",
    "%matplotlib inline"
   ]
  },
  {
   "cell_type": "markdown",
   "metadata": {
    "id": "QyrPtZITWV5r"
   },
   "source": [
    "# Allen Brain Observatory set up\n",
    "This instantiates the tools in the Allen SDK that allow us to access the Brain Observatory data.\n",
    "\n",
    "The main entry point is the `BrainObservatoryCache` class. This class is responsible for accessing any data or metadata.\n",
    "\n",
    "We begin by importing the `BrainObservatoryCache` class and instantiating it, pointing it to our manifest file.\n",
    "\n",
    "`manifest_file` is a path to where the manifest file is located. This needs to reflect where you are storing and accessing the data. Here, we are pointing it to the data on the S3 bucket."
   ]
  },
  {
   "cell_type": "code",
   "execution_count": null,
   "metadata": {
    "id": "I3y58o5xWb_g"
   },
   "outputs": [],
   "source": [
    "from allensdk.core.brain_observatory_cache import BrainObservatoryCache\n",
    "manifest_file = '/data/allen-brain-observatory/visual-coding-2p/manifest.json'\n",
    "boc = BrainObservatoryCache(manifest_file=manifest_file)"
   ]
  },
  {
   "cell_type": "markdown",
   "metadata": {
    "id": "3qs2CG_cT-me"
   },
   "source": [
    "### Querying from the Brain Observatory Cache"
   ]
  },
  {
   "cell_type": "markdown",
   "metadata": {
    "id": "ujr9Sf5CYtS5"
   },
   "source": [
    "The Brain Observatory Cache enables us to see the dimensions of the dataset.\n",
    "\n",
    "Let's take a look at the available depths, Cre lines, areas, and stimuli available in the Brain Observatory datsset.\n",
    "\n"
   ]
  },
  {
   "cell_type": "code",
   "execution_count": null,
   "metadata": {
    "id": "Z-h05JoJY19b"
   },
   "outputs": [],
   "source": [
    "###########\n",
    "# list of all targeted areas\n"
   ]
  },
  {
   "cell_type": "code",
   "execution_count": null,
   "metadata": {
    "id": "byN_eB9PY52t"
   },
   "outputs": [],
   "source": [
    "###########\n",
    "# list of all Cre driver lines\n"
   ]
  },
  {
   "cell_type": "code",
   "execution_count": null,
   "metadata": {
    "id": "CacRk3MZY8vW"
   },
   "outputs": [],
   "source": [
    "###########\n",
    "# list of all imaging depths\n"
   ]
  },
  {
   "cell_type": "code",
   "execution_count": null,
   "metadata": {
    "id": "k1HBQEOMY_O_"
   },
   "outputs": [],
   "source": [
    "###########\n",
    "# list of all stimuli\n"
   ]
  },
  {
   "cell_type": "markdown",
   "metadata": {
    "id": "zirzeZyZZJyH"
   },
   "source": [
    "### Finding Experiment containers in the Brain Observatory Cache\n",
    "The `experiment container` describes a set of 3 `sessions` performed for the same field of view (ie. same targeted area and imaging depth in the same mouse that targets the same set of neurons). Each experiment container has a unique ID number."
   ]
  },
  {
   "cell_type": "markdown",
   "metadata": {
    "id": "2FyKd1_0AbRZ"
   },
   "source": [
    "!['Diagram of containers'](http://alleninstitute.github.io/AllenSDK/_static/container_session_layout.png)"
   ]
  },
  {
   "cell_type": "markdown",
   "metadata": {
    "id": "Z5RxgL4uFfCe"
   },
   "source": [
    "First let's try to find all the experiment containers:"
   ]
  },
  {
   "cell_type": "code",
   "execution_count": null,
   "metadata": {
    "id": "sTcAZAmYFjXk"
   },
   "outputs": [],
   "source": [
    "########\n"
   ]
  },
  {
   "cell_type": "markdown",
   "metadata": {
    "id": "5Z6U_9iwTK7u"
   },
   "source": [
    "And now let's find all the \"sessions\" (These are Ophys Experiment Sessions):"
   ]
  },
  {
   "cell_type": "code",
   "execution_count": null,
   "metadata": {
    "id": "RW-_zV4ATPqk"
   },
   "outputs": [],
   "source": [
    "#########\n"
   ]
  },
  {
   "cell_type": "markdown",
   "metadata": {
    "id": "qxo7l9vrU0oN"
   },
   "source": [
    "#### Finding Experiment Containers of Interest"
   ]
  },
  {
   "cell_type": "markdown",
   "metadata": {
    "id": "TuY1xe3YZZNl"
   },
   "source": [
    "We may be interested in a specific visual area and Cre line. Let's choose a visual area and Cre line from the lists above."
   ]
  },
  {
   "cell_type": "code",
   "execution_count": null,
   "metadata": {
    "id": "DUJqpDPeZDWg"
   },
   "outputs": [],
   "source": [
    "visual_area = 'VISal'\n",
    "cre_line ='Cux2-CreERT2'"
   ]
  },
  {
   "cell_type": "markdown",
   "metadata": {
    "id": "jZ2wKd-SZfJS"
   },
   "source": [
    "Get the list of all the experiment containers for that area and Cre line combination."
   ]
  },
  {
   "cell_type": "code",
   "execution_count": null,
   "metadata": {
    "id": "vZU1djdJGSpM"
   },
   "outputs": [],
   "source": [
    "? boc.get_experiment_containers"
   ]
  },
  {
   "cell_type": "code",
   "execution_count": null,
   "metadata": {
    "id": "iSACQodcZc5-"
   },
   "outputs": [],
   "source": [
    "###############\n"
   ]
  },
  {
   "cell_type": "markdown",
   "metadata": {
    "id": "xpHVjfrDGmMs"
   },
   "source": [
    "A nice way to look at it is by using a Pandas Dataframe:"
   ]
  },
  {
   "cell_type": "code",
   "execution_count": null,
   "metadata": {
    "id": "lMcpoAc4Zjvw"
   },
   "outputs": [],
   "source": [
    "pd.DataFrame(exps)"
   ]
  },
  {
   "cell_type": "markdown",
   "metadata": {
    "id": "52zPcO78G7YO"
   },
   "source": [
    "How many experiment containers did you find?"
   ]
  },
  {
   "cell_type": "code",
   "execution_count": null,
   "metadata": {
    "id": "FqDL0pSXHlyv"
   },
   "outputs": [],
   "source": [
    "len(exps)"
   ]
  },
  {
   "cell_type": "markdown",
   "metadata": {
    "id": "8VLzJjBpZpYp"
   },
   "source": [
    "Try this: Let's look at one experiment container, imaged from Cux2-CreERT2, in VISp, from imaging depth 175 um. Compute the DataFrame that will show you all the experiment containers for this combination of parameters."
   ]
  },
  {
   "cell_type": "code",
   "execution_count": null,
   "metadata": {
    "id": "sG5Q8tpCLBG3"
   },
   "outputs": [],
   "source": [
    "##################\n",
    "\n"
   ]
  },
  {
   "cell_type": "markdown",
   "metadata": {
    "id": "aluXg7gYMHrs"
   },
   "source": [
    "Now let's look at one of these experiment containers:"
   ]
  },
  {
   "cell_type": "code",
   "execution_count": null,
   "metadata": {
    "id": "cpZQI44wZl3k"
   },
   "outputs": [],
   "source": [
    "experiment_container_id = 511510736"
   ]
  },
  {
   "cell_type": "markdown",
   "metadata": {
    "id": "Zd1ler85Z5-C"
   },
   "source": [
    "Let's get all of the sessions for this container."
   ]
  },
  {
   "cell_type": "code",
   "execution_count": null,
   "metadata": {
    "id": "5Q_XeA45KLf_"
   },
   "outputs": [],
   "source": [
    "?boc.get_ophys_experiments"
   ]
  },
  {
   "cell_type": "code",
   "execution_count": null,
   "metadata": {
    "id": "27iC4wIkZsm7"
   },
   "outputs": [],
   "source": [
    "#############\n",
    "\n"
   ]
  },
  {
   "cell_type": "markdown",
   "metadata": {
    "id": "TchLv-c4aFeD"
   },
   "source": [
    "Let's find the session from this container that used the `natural_scenes` stimulus."
   ]
  },
  {
   "cell_type": "code",
   "execution_count": null,
   "metadata": {
    "id": "BVBak4XdZ0WF"
   },
   "outputs": [],
   "source": [
    "#############\n",
    "\n",
    "\n"
   ]
  },
  {
   "cell_type": "markdown",
   "metadata": {
    "id": "u3B546xmaSzB"
   },
   "source": [
    "Each session has a unique ID, and we can use that ID to access the data for this session."
   ]
  },
  {
   "cell_type": "code",
   "execution_count": null,
   "metadata": {
    "id": "KQ1mh3WEaXfw"
   },
   "outputs": [],
   "source": [
    "session_id = boc.get_ophys_experiments(experiment_container_ids=[experiment_container_id],\n",
    "                                       stimuli=['natural_scenes'])[0]['id']\n",
    "print(session_id)"
   ]
  },
  {
   "cell_type": "markdown",
   "metadata": {
    "id": "DQpp9ZSSWDXl"
   },
   "source": [
    "This concludes the section on querying the Brain Observatory Cache for searching for experiments. We will now look into how we can find information about specific Sessions (Ophys Experiments)"
   ]
  },
  {
   "cell_type": "markdown",
   "metadata": {
    "id": "I_BMAcA9afsB"
   },
   "source": [
    "# Ophys Experiment data\n",
    "A single imaging session is stored in an NWB File. This section shows us how to access everything in the NWB file for a single imaging session. An ophys session contains the following:\n",
    "\n",
    "\n",
    "1.   Maximum Projection of the Ophys Session\n",
    "2.   ROI masks for cells\n",
    "3.   DF/F Traces\n",
    "4.   Stimulus Epochs\n",
    "5.   Running Speed\n",
    "6.   Stimulus Table\n",
    "7.   Stimulus Template\n",
    "\n"
   ]
  },
  {
   "cell_type": "code",
   "execution_count": null,
   "metadata": {
    "id": "H9zuFaMNWpQH"
   },
   "outputs": [],
   "source": [
    "?boc.get_ophys_experiment_data"
   ]
  },
  {
   "cell_type": "code",
   "execution_count": null,
   "metadata": {
    "id": "z2YxLSJHaZBX"
   },
   "outputs": [],
   "source": [
    "#######\n"
   ]
  },
  {
   "cell_type": "markdown",
   "metadata": {
    "id": "vMbAHOXoatVe"
   },
   "source": [
    "We can use this `data_set` object to access all the pieces of data for the session. Let's take a look."
   ]
  },
  {
   "cell_type": "markdown",
   "metadata": {
    "id": "_gW2wwRharFm"
   },
   "source": [
    "# Maximum projection\n",
    "This is the projection of the full motion corrected movie. It shows all of the neurons imaged during the session."
   ]
  },
  {
   "cell_type": "code",
   "execution_count": null,
   "metadata": {
    "id": "Un1PAG5YZAuK"
   },
   "outputs": [],
   "source": [
    "###########\n"
   ]
  },
  {
   "cell_type": "code",
   "execution_count": null,
   "metadata": {
    "id": "jdPEuBreanU4"
   },
   "outputs": [],
   "source": [
    "\n",
    "\n",
    "fig = plt.figure(figsize=(6,6))\n",
    "plt.imshow(max_projection, cmap='gray')"
   ]
  },
  {
   "cell_type": "markdown",
   "metadata": {
    "id": "lYczWz-wa5sy"
   },
   "source": [
    "# ROI Masks\n",
    "These are all of the segmented masks for cell bodies in this experiment."
   ]
  },
  {
   "cell_type": "code",
   "execution_count": null,
   "metadata": {
    "id": "SZwv_oJ8a5PC"
   },
   "outputs": [],
   "source": [
    "#########\n"
   ]
  },
  {
   "cell_type": "markdown",
   "metadata": {
    "id": "67Rt1ybKhtnM"
   },
   "source": [
    "Look at the dimensions of the mask. There is one image per cell."
   ]
  },
  {
   "cell_type": "code",
   "execution_count": null,
   "metadata": {
    "id": "TmXyxiopbLcP"
   },
   "outputs": [],
   "source": [
    "print(rois.shape)\n",
    "print(\"Number of cells:\", rois.shape[0])"
   ]
  },
  {
   "cell_type": "markdown",
   "metadata": {
    "id": "Ps-5jF8LiyqS"
   },
   "source": [
    "What are the values in the mask?"
   ]
  },
  {
   "cell_type": "code",
   "execution_count": null,
   "metadata": {
    "id": "kfKYhKqkisBM"
   },
   "outputs": [],
   "source": [
    "################\n"
   ]
  },
  {
   "cell_type": "markdown",
   "metadata": {
    "id": "it5pxNesiN_9"
   },
   "source": [
    "Let's look at a mask for one cell:"
   ]
  },
  {
   "cell_type": "code",
   "execution_count": null,
   "metadata": {
    "id": "MMa5DwjLiPgO"
   },
   "outputs": [],
   "source": [
    "################\n",
    "\n"
   ]
  },
  {
   "cell_type": "markdown",
   "metadata": {
    "id": "nk3KjM9siZ-q"
   },
   "source": [
    "To look at all cells, instead we can sum them up:"
   ]
  },
  {
   "cell_type": "code",
   "execution_count": null,
   "metadata": {
    "id": "gmqNX3KMbOOi"
   },
   "outputs": [],
   "source": [
    "plt.figure(figsize=(6,6))\n",
    "plt.imshow(rois.sum(axis=0))"
   ]
  },
  {
   "cell_type": "code",
   "execution_count": null,
   "metadata": {
    "id": "ean6s-3ZjH8V"
   },
   "outputs": [],
   "source": [
    "np.unique(rois.sum(axis=0))"
   ]
  },
  {
   "cell_type": "markdown",
   "metadata": {
    "id": "4oQSBcY8bXrH"
   },
   "source": [
    "# DF/F Traces\n",
    "There are a number of accessible traces for all these 174 cells in the NWB file, including raw fluorescence, neuropil corrected traces, demixed traces, and DF/F traces. There are also extracted events available.\n",
    "In this tutorial we will us DF/F to examine neural activity."
   ]
  },
  {
   "cell_type": "code",
   "execution_count": null,
   "metadata": {
    "id": "gleODN4MbT-J"
   },
   "outputs": [],
   "source": [
    "##############\n"
   ]
  },
  {
   "cell_type": "markdown",
   "metadata": {
    "id": "Axv1eKcQj_ny"
   },
   "source": [
    "Let's look at dff and ts. (dff is the stored variable name for the DF/F traces and ts are the timestamps.)"
   ]
  },
  {
   "cell_type": "code",
   "execution_count": null,
   "metadata": {
    "id": "q7qWlhx5boKs"
   },
   "outputs": [],
   "source": [
    "##############\n"
   ]
  },
  {
   "cell_type": "code",
   "execution_count": null,
   "metadata": {
    "id": "IFmkx-ecjtda"
   },
   "outputs": [],
   "source": [
    "#############\n"
   ]
  },
  {
   "cell_type": "markdown",
   "metadata": {
    "id": "c2dmqCHWk9T7"
   },
   "source": [
    "Let's plot the activity of one neuron:"
   ]
  },
  {
   "cell_type": "code",
   "execution_count": null,
   "metadata": {
    "id": "KHYN5CVik7q-"
   },
   "outputs": [],
   "source": [
    "fig = plt.figure(figsize=(10,8))\n",
    "plt.plot(dff[10,:], color='gray')"
   ]
  },
  {
   "cell_type": "markdown",
   "metadata": {
    "id": "vXIOREg3bteL"
   },
   "source": [
    "Let's plot the activity of the first 50 neurons from this session."
   ]
  },
  {
   "cell_type": "code",
   "execution_count": null,
   "metadata": {
    "id": "8ip_8omObph3"
   },
   "outputs": [],
   "source": [
    "fig = plt.figure(figsize=(10,8))\n",
    "for i in range(50):\n",
    "    plt.plot(dff[i,:])\n",
    "    #plt.plot(dff[i,:]+(i*2), color='gray')"
   ]
  },
  {
   "cell_type": "markdown",
   "metadata": {
    "id": "ETq1qziQb10S"
   },
   "source": [
    "# Stimulus epochs\n",
    "Several stimuli are shown during each imaging session, interleaved with each other. The stimulus epoch table provides information on these interleaved stimulus epochs"
   ]
  },
  {
   "cell_type": "code",
   "execution_count": null,
   "metadata": {
    "id": "9mU0u5QFbxB6"
   },
   "outputs": [],
   "source": [
    "############\n"
   ]
  },
  {
   "cell_type": "markdown",
   "metadata": {
    "id": "96WKSAzLcAnu"
   },
   "source": [
    "Let's add the stimulus epoch information to the plot of neural activity."
   ]
  },
  {
   "cell_type": "code",
   "execution_count": null,
   "metadata": {
    "id": "qawIFj48b8ad"
   },
   "outputs": [],
   "source": [
    "#plot activity of first 50 neurons\n",
    "fig = plt.figure(figsize=(10,8))\n",
    "for i in range(50):\n",
    "    plt.plot(dff[i,:]+(i*2), color='gray')\n",
    "\n",
    "#for each stimulus, shade the plot when the stimulus is presented\n",
    "colors = ['blue','orange','green','red']\n",
    "for c,stim_name in enumerate(stim_epoch.stimulus.unique()):\n",
    "    stim = stim_epoch[stim_epoch.stimulus==stim_name]\n",
    "    for j in range(len(stim)):\n",
    "        plt.axvspan(xmin=stim.start.iloc[j], xmax=stim.end.iloc[j], color=colors[c], alpha=0.1)\n"
   ]
  },
  {
   "cell_type": "markdown",
   "metadata": {
    "id": "O1orU9MvcdEB"
   },
   "source": [
    "# Running speed\n",
    "The running speed of the animal on the rotating disk during the entire session."
   ]
  },
  {
   "cell_type": "code",
   "execution_count": null,
   "metadata": {
    "id": "URb0k91gcFeg"
   },
   "outputs": [],
   "source": [
    "dxcm, tsd = data_set.get_running_speed()\n",
    "\n",
    "fig = plt.figure(figsize=(10,3))\n",
    "plt.plot(dxcm)\n",
    "plt.ylabel(\"Running speed (cm/s)\")"
   ]
  },
  {
   "cell_type": "markdown",
   "metadata": {
    "id": "-tgdU7bZcrkc"
   },
   "source": [
    "Let's add the running speed to our plot of neural activity and stimulus epochs."
   ]
  },
  {
   "cell_type": "code",
   "execution_count": null,
   "metadata": {
    "id": "TGc6pA3Scjt-"
   },
   "outputs": [],
   "source": [
    "#plot activity of first 50 neurons\n",
    "fig = plt.figure(figsize=(10,10))\n",
    "for i in range(50):\n",
    "    plt.plot(dff[i,:]+(i*2), color='gray')\n",
    "\n",
    "#plot the running speed (scaled and offset to fit)\n",
    "plt.plot((0.2*dxcm)-20)\n",
    "\n",
    "#for each stimulus, shade the plot when the stimulus is presented\n",
    "colors = ['blue','orange','green','red']\n",
    "for c,stim_name in enumerate(stim_epoch.stimulus.unique()):\n",
    "    stim = stim_epoch[stim_epoch.stimulus==stim_name]\n",
    "    for j in range(len(stim)):\n",
    "        plt.axvspan(xmin=stim.start.iloc[j], xmax=stim.end.iloc[j], color=colors[c], alpha=0.1)\n"
   ]
  },
  {
   "cell_type": "markdown",
   "metadata": {
    "id": "d99Xncx9fAlU"
   },
   "source": [
    "Let's look at a few individual neurons."
   ]
  },
  {
   "cell_type": "code",
   "execution_count": null,
   "metadata": {
    "id": "YxLK8dFMfBZ5"
   },
   "outputs": [],
   "source": [
    "fig = plt.figure(figsize=(14,4))\n",
    "\n",
    "plt.plot(dff[49,:], color='gray')\n",
    "plt.plot((0.1*dxcm)-10)\n",
    "\n",
    "#for each stimulus, shade the plot when the stimulus is presented\n",
    "colors = ['blue','orange','green','red']\n",
    "for c,stim_name in enumerate(stim_epoch.stimulus.unique()):\n",
    "    stim = stim_epoch[stim_epoch.stimulus==stim_name]\n",
    "    for j in range(len(stim)):\n",
    "        plt.axvspan(xmin=stim.start.iloc[j], xmax=stim.end.iloc[j], color=colors[c], alpha=0.1)\n"
   ]
  },
  {
   "cell_type": "code",
   "execution_count": null,
   "metadata": {
    "id": "ZTyHkKgMfMlJ"
   },
   "outputs": [],
   "source": [
    "fig = plt.figure(figsize=(14,4))\n",
    "\n",
    "plt.plot(dff[4,:], color='gray')\n",
    "plt.plot((0.1*dxcm)-10)\n",
    "\n",
    "#for each stimulus, shade the plot when the stimulus is presented\n",
    "colors = ['blue','orange','green','red']\n",
    "for c,stim_name in enumerate(stim_epoch.stimulus.unique()):\n",
    "    stim = stim_epoch[stim_epoch.stimulus==stim_name]\n",
    "    for j in range(len(stim)):\n",
    "        plt.axvspan(xmin=stim.start.iloc[j], xmax=stim.end.iloc[j], color=colors[c], alpha=0.1)"
   ]
  },
  {
   "cell_type": "code",
   "execution_count": null,
   "metadata": {
    "id": "LicK5pwRfQma"
   },
   "outputs": [],
   "source": [
    "fig = plt.figure(figsize=(14,4))\n",
    "\n",
    "plt.plot(dff[35,:], color='gray')\n",
    "plt.plot((0.1*dxcm)-10)\n",
    "\n",
    "#for each stimulus, shade the plot when the stimulus is presented\n",
    "colors = ['blue','orange','green','red']\n",
    "for c,stim_name in enumerate(stim_epoch.stimulus.unique()):\n",
    "    stim = stim_epoch[stim_epoch.stimulus==stim_name]\n",
    "    for j in range(len(stim)):\n",
    "        plt.axvspan(xmin=stim.start.iloc[j], xmax=stim.end.iloc[j], color=colors[c], alpha=0.1)"
   ]
  },
  {
   "cell_type": "markdown",
   "metadata": {
    "id": "ilVjBhbQdEfU"
   },
   "source": [
    "# Stimulus Table\n",
    "For each stimulus there is a stimulus table with information about the condition and timing of each trial."
   ]
  },
  {
   "cell_type": "code",
   "execution_count": null,
   "metadata": {
    "id": "4akRk29_c35A"
   },
   "outputs": [],
   "source": [
    "natural_scene_table = data_set.get_stimulus_table('natural_scenes')\n",
    "natural_scene_table.head(n=10)\n"
   ]
  },
  {
   "cell_type": "markdown",
   "metadata": {
    "id": "e7HNXKO1dVJ-"
   },
   "source": [
    "# Stimulus Template\n",
    "The images and movies presented during the session area also included in the NWB file as the stimulus template. Stimuli that are generated programmatically (eg. drifting and static gratings) do not have a stimulus template. There are tools in the SDK to recreate these stimuli."
   ]
  },
  {
   "cell_type": "code",
   "execution_count": null,
   "metadata": {
    "id": "7H3ps7gndNvV"
   },
   "outputs": [],
   "source": [
    "natural_scene_template = data_set.get_stimulus_template('natural_scenes')"
   ]
  },
  {
   "cell_type": "code",
   "execution_count": null,
   "metadata": {
    "id": "hmqLjCu5dZxV"
   },
   "outputs": [],
   "source": [
    "natural_scene_template.shape"
   ]
  },
  {
   "cell_type": "markdown",
   "metadata": {
    "id": "0_zlS7afdesw"
   },
   "source": [
    "Let's look at the scene presented in the first trial."
   ]
  },
  {
   "cell_type": "code",
   "execution_count": null,
   "metadata": {
    "id": "NPrEyddddb2D"
   },
   "outputs": [],
   "source": [
    "scene_number = natural_scene_table.frame.loc[0]\n",
    "plt.imshow(natural_scene_template[scene_number,:,:], cmap='gray')"
   ]
  },
  {
   "cell_type": "markdown",
   "metadata": {
    "id": "ZpaHoOVVdp8e"
   },
   "source": [
    "We can add the trials of this image to the plot of neural activity too:"
   ]
  },
  {
   "cell_type": "code",
   "execution_count": null,
   "metadata": {
    "id": "EeErMmqkdi9v"
   },
   "outputs": [],
   "source": [
    "#plot activity of first 50 neurons\n",
    "fig = plt.figure(figsize=(10,10))\n",
    "for i in range(50):\n",
    "    plt.plot(dff[i,:]+(i*2), color='gray')\n",
    "\n",
    "#plot the running speed (scaled and offset to fit)\n",
    "plt.plot((0.2*dxcm)-20)\n",
    "\n",
    "#for each stimulus, shade the plot when the stimulus is presented\n",
    "colors = ['blue','orange','green','red']\n",
    "for c,stim_name in enumerate(stim_epoch.stimulus.unique()):\n",
    "    stim = stim_epoch[stim_epoch.stimulus==stim_name]\n",
    "    for j in range(len(stim)):\n",
    "        plt.axvspan(xmin=stim.start.iloc[j], xmax=stim.end.iloc[j], color=colors[c], alpha=0.1)\n",
    "\n",
    "#shade traces with the time of each presentation of the above scene\n",
    "stim_subset = natural_scene_table[natural_scene_table.frame==scene_number]\n",
    "for j in range(len(stim_subset)):\n",
    "    plt.axvspan(xmin=stim_subset.start.iloc[j], xmax=stim_subset.end.iloc[j], color='red', alpha=0.4)"
   ]
  },
  {
   "cell_type": "markdown",
   "metadata": {
    "id": "La13FxjWfZ5_"
   },
   "source": [
    "We can zoom in on these trials. We'll look at one neuron's responses to all the trials of one image."
   ]
  },
  {
   "cell_type": "code",
   "execution_count": null,
   "metadata": {
    "id": "mIo3iu9Ud1jZ"
   },
   "outputs": [],
   "source": [
    "cell_index=19\n",
    "scene_number=22\n",
    "\n",
    "stim_subset = natural_scene_table[natural_scene_table.frame==scene_number]\n",
    "\n",
    "for i in range(len(stim_subset)):\n",
    "    plt.plot(dff[cell_index,stim_subset.start.iloc[i]-10:stim_subset.end.iloc[i]+10], color='gray')\n",
    "plt.axvspan(10,18, color='red',alpha=0.2)\n"
   ]
  }
 ],
 "metadata": {
  "colab": {
   "provenance": []
  },
  "kernelspec": {
   "display_name": "Python 3",
   "name": "python3"
  },
  "language_info": {
   "name": "python"
  }
 },
 "nbformat": 4,
 "nbformat_minor": 0
}
